{
 "cells": [
  {
   "cell_type": "markdown",
   "id": "a1b16cff",
   "metadata": {},
   "source": [
    "Шуточный пример, в котором реализованы все минимально необходимые функциональности для работы простейшей нейронной сети. За образец взят https://docs.pytorch.org/tutorials/beginner/basics/quickstart_tutorial.html"
   ]
  },
  {
   "cell_type": "code",
   "execution_count": 1,
   "id": "dce6856a-40ab-40a3-b91d-56ee9b9851d6",
   "metadata": {},
   "outputs": [],
   "source": [
    "import torch\n",
    "from torch import nn\n",
    "from torch.utils.data import DataLoader, Dataset"
   ]
  },
  {
   "cell_type": "code",
   "execution_count": 2,
   "id": "6d035a8c-de57-41f5-b57b-d32c7bbf341b",
   "metadata": {},
   "outputs": [],
   "source": [
    "class RandomDataset(Dataset):\n",
    "    def __init__(self, nelem, nfeat):\n",
    "        \n",
    "        self.nelem = nelem\n",
    "        self.nfeat = nfeat\n",
    "        \n",
    "        self.elems = torch.randn(self.nelem, self.nfeat)\n",
    "        self.labels = torch.randn(self.nelem, 1)\n",
    "        \n",
    "    def __len__(self):\n",
    "        return self.nelem\n",
    "    \n",
    "    def __getitem__(self, idx):\n",
    "        return self.elems[idx, :], self.labels[idx, :]\n",
    "    "
   ]
  },
  {
   "cell_type": "code",
   "execution_count": 3,
   "id": "2c823e22-8ce5-4b66-a55f-0e04beb780dd",
   "metadata": {},
   "outputs": [],
   "source": [
    "nfeat = 5\n",
    "\n",
    "training_data = RandomDataset(5000, 5)\n",
    "test_data = RandomDataset(60, 5)\n",
    "batch_size = 100"
   ]
  },
  {
   "cell_type": "code",
   "execution_count": 4,
   "id": "2432346a-2807-4637-be6c-1f38825bdafa",
   "metadata": {},
   "outputs": [],
   "source": [
    "train_dataloader = DataLoader(training_data, batch_size=batch_size, shuffle = True)\n",
    "test_dataloader = DataLoader(test_data, batch_size=batch_size)"
   ]
  },
  {
   "cell_type": "code",
   "execution_count": 5,
   "id": "8ec94c0e-0266-4942-a295-43f85a60d991",
   "metadata": {},
   "outputs": [],
   "source": [
    "device = 'cpu'#'cuda' if torch.cuda.is_available else 'cpu'"
   ]
  },
  {
   "cell_type": "code",
   "execution_count": 6,
   "id": "b9adebfa-9da3-4396-bd98-a9c7f7c626a8",
   "metadata": {},
   "outputs": [],
   "source": [
    "class RandNN(nn.Module):\n",
    "    def __init__(self):\n",
    "        super().__init__()\n",
    "        self.linear_relu_stack = nn.Sequential(\n",
    "            nn.Linear(nfeat, 9*nfeat),\n",
    "            nn.ReLU(),\n",
    "            nn.Linear(9*nfeat, 9*nfeat),\n",
    "            nn.ReLU(),            \n",
    "            nn.Linear(9*nfeat, 1),\n",
    "        )\n",
    "    def forward(self, x):\n",
    "        return self.linear_relu_stack(x)\n",
    "    "
   ]
  },
  {
   "cell_type": "code",
   "execution_count": 7,
   "id": "c2a99e20-e313-4dae-b4a1-799d4399899b",
   "metadata": {},
   "outputs": [],
   "source": [
    "def train_epoch(dataloader, model, loss_fn, optimizer):\n",
    "    size = len(dataloader.dataset)#  __len__() function from RandomDataset necessarity. \n",
    "    \n",
    "    model.train()\n",
    "    \n",
    "    for batch, (X,y) in enumerate(dataloader):\n",
    "        X, y = X.to(device), y.to(device)\n",
    "        pred = model(X)\n",
    "        loss = loss_fn(pred, y)\n",
    "        \n",
    "        loss.backward()\n",
    "        optimizer.step()\n",
    "        optimizer.zero_grad()\n",
    "        \n",
    "        if batch % 10 == 0: # visualization\n",
    "            loss, current = loss.item(), (batch+1)*len(X)\n",
    "            print(f'{current:>5d}/{size:>5d}', f'loss:{loss:>7f}', end = ' || \\n')\n",
    "            \n",
    "            \n",
    "def test_epoch(dataloader, model, loss_fn):\n",
    "    size = len(dataloader.dataset)\n",
    "    num_batches = len(dataloader)\n",
    "    test_loss = 0\n",
    "    \n",
    "    model.eval()\n",
    "    with torch.no_grad():\n",
    "        for X, y in dataloader:\n",
    "            X, y = X.to(device), y.to(device)\n",
    "            pred = model(X)\n",
    "            test_loss += loss_fn(pred, y).item()\n",
    "            \n",
    "        test_loss /= num_batches\n",
    "        print(f'\\n Test_loss:{test_loss:>7f}')\n",
    "    return test_loss\n",
    "        "
   ]
  },
  {
   "cell_type": "code",
   "execution_count": 8,
   "id": "c3fb1864-bbc9-45e8-82e6-e923d01f0d5c",
   "metadata": {},
   "outputs": [],
   "source": [
    "model = RandNN().to(device)\n",
    "\n",
    "learning_rate = 1e-3\n",
    "num_epochs = 3\n",
    "\n",
    "loss_fn = nn.MSELoss()\n",
    "optimizer = torch.optim.SGD(model.parameters(), lr = learning_rate)"
   ]
  },
  {
   "cell_type": "code",
   "execution_count": 9,
   "id": "e268fe0d-85f8-41ab-9f18-8f13cd705c9e",
   "metadata": {},
   "outputs": [
    {
     "name": "stdout",
     "output_type": "stream",
     "text": [
      "Epoch 1\n",
      "  100/ 5000 loss:0.968304 || \n",
      " 1100/ 5000 loss:0.740778 || \n",
      " 2100/ 5000 loss:1.209534 || \n",
      " 3100/ 5000 loss:1.073155 || \n",
      " 4100/ 5000 loss:1.002857 || \n",
      "\n",
      " Test_loss:1.044762\n",
      "Saved best PyTorch Model State to model.pth\n",
      "Epoch 2\n",
      "  100/ 5000 loss:1.131367 || \n",
      " 1100/ 5000 loss:0.962406 || \n",
      " 2100/ 5000 loss:0.928872 || \n",
      " 3100/ 5000 loss:1.021300 || \n",
      " 4100/ 5000 loss:1.257439 || \n",
      "\n",
      " Test_loss:1.028510\n",
      "Saved best PyTorch Model State to model.pth\n",
      "Epoch 3\n",
      "  100/ 5000 loss:1.349526 || \n",
      " 1100/ 5000 loss:0.849847 || \n",
      " 2100/ 5000 loss:0.987921 || \n",
      " 3100/ 5000 loss:1.070040 || \n",
      " 4100/ 5000 loss:0.840567 || \n",
      "\n",
      " Test_loss:1.017974\n",
      "Saved best PyTorch Model State to model.pth\n"
     ]
    }
   ],
   "source": [
    "min_loss = 9999\n",
    "for ep in range(num_epochs):\n",
    "    print(f'Epoch {ep+1}')\n",
    "    train_epoch(train_dataloader, model, loss_fn, optimizer)\n",
    "    curr_loss = test_epoch(train_dataloader, model, loss_fn)\n",
    "    if curr_loss < min_loss:\n",
    "        torch.save(model.state_dict(), \"model.pth\")\n",
    "        print(\"Saved best PyTorch Model State to model.pth\")        "
   ]
  },
  {
   "cell_type": "code",
   "execution_count": 10,
   "id": "e88588a6-5bee-4624-885b-924094d101f1",
   "metadata": {},
   "outputs": [
    {
     "data": {
      "text/plain": [
       "RandNN(\n",
       "  (linear_relu_stack): Sequential(\n",
       "    (0): Linear(in_features=5, out_features=45, bias=True)\n",
       "    (1): ReLU()\n",
       "    (2): Linear(in_features=45, out_features=45, bias=True)\n",
       "    (3): ReLU()\n",
       "    (4): Linear(in_features=45, out_features=1, bias=True)\n",
       "  )\n",
       ")"
      ]
     },
     "execution_count": 10,
     "metadata": {},
     "output_type": "execute_result"
    }
   ],
   "source": [
    "#load the best model      \n",
    "model = RandNN().to(device)\n",
    "model.load_state_dict(torch.load(\"model.pth\")) \n",
    "model.eval()"
   ]
  },
  {
   "cell_type": "code",
   "execution_count": 14,
   "id": "e23ebf4a",
   "metadata": {},
   "outputs": [
    {
     "name": "stdout",
     "output_type": "stream",
     "text": [
      "0.10261093080043793\n"
     ]
    }
   ],
   "source": [
    "x, y = test_data[0][0], test_data[0][1]\n",
    "with torch.no_grad():\n",
    "    x = x.to(device)\n",
    "    pred = model(x)\n",
    "    print(pred.item())"
   ]
  },
  {
   "cell_type": "code",
   "execution_count": null,
   "id": "28df07d7",
   "metadata": {},
   "outputs": [],
   "source": []
  }
 ],
 "metadata": {
  "kernelspec": {
   "display_name": "Python 3",
   "language": "python",
   "name": "python3"
  },
  "language_info": {
   "codemirror_mode": {
    "name": "ipython",
    "version": 3
   },
   "file_extension": ".py",
   "mimetype": "text/x-python",
   "name": "python",
   "nbconvert_exporter": "python",
   "pygments_lexer": "ipython3",
   "version": "3.8.8"
  }
 },
 "nbformat": 4,
 "nbformat_minor": 5
}
